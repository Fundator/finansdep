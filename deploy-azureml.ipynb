{
 "cells": [
  {
   "cell_type": "code",
   "execution_count": 2,
   "metadata": {},
   "outputs": [
    {
     "name": "stdout",
     "output_type": "stream",
     "text": [
      "Performing interactive authentication. Please follow the instructions on the terminal.\n"
     ]
    },
    {
     "name": "stderr",
     "output_type": "stream",
     "text": [
      "Note, we have launched a browser for you to login. For old experience with device code, use \"az login --use-device-code\"\n",
      "You have logged in. Now let us find all the subscriptions to which you have access...\n"
     ]
    },
    {
     "name": "stdout",
     "output_type": "stream",
     "text": [
      "Interactive authentication successfully completed.\n",
      "Deploying StorageAccount with name mlflowdestorage575e01707.\n",
      "Deploying KeyVault with name mlflowdekeyvaulte7f9b411.\n",
      "Deploying AppInsights with name mlflowdeinsightsba79ebfc.\n",
      "Deployed AppInsights with name mlflowdeinsightsba79ebfc.\n",
      "Deployed KeyVault with name mlflowdekeyvaulte7f9b411.\n",
      "Deployed StorageAccount with name mlflowdestorage575e01707.\n",
      "Deploying Workspace with name mlflow-demo-deploy.\n",
      "Deployed Workspace with name mlflow-demo-deploy.\n"
     ]
    }
   ],
   "source": [
    "import mlflow.azureml\n",
    "\n",
    "from azureml.core import Workspace\n",
    "from azureml.core.webservice import AciWebservice, Webservice\n",
    "\n",
    "\n",
    "# Create or load an existing Azure ML workspace. You can also load an existing workspace using\n",
    "# Workspace.get(name=\"<workspace_name>\")\n",
    "workspace_name = \"mlflow-demo-deploy\"\n",
    "subscription_id = \"fb598598-1e1c-4197-b4ad-dec397c8be02\"\n",
    "resource_group = \"mlflow-demo\"\n",
    "location = \"northeurope\"\n",
    "azure_workspace = Workspace.create(name=workspace_name,\n",
    "                                   subscription_id=subscription_id,\n",
    "                                   resource_group=resource_group,\n",
    "                                   location=location,\n",
    "                                   create_resource_group=True)"
   ]
  },
  {
   "cell_type": "code",
   "execution_count": null,
   "metadata": {},
   "outputs": [],
   "source": [
    "# Build an Azure ML container image for deployment\n",
    "azure_image, azure_model = mlflow.azureml.build_image(model_path=\"<path-to-model>\",\n",
    "                                                      workspace=azure_workspace,\n",
    "                                                      description=\"Wine regression model 1\",\n",
    "                                                      synchronous=True)\n",
    "# If your image build failed, you can access build logs at the following URI:\n",
    "print(\"Access the following URI for build logs: {}\".format(azure_image.image_build_log_uri))\n",
    "\n",
    "# Deploy the container image to ACI\n",
    "webservice_deployment_config = AciWebservice.deploy_configuration()\n",
    "webservice = Webservice.deploy_from_image(\n",
    "                    image=azure_image, workspace=azure_workspace, name=\"<deployment-name>\")\n",
    "webservice.wait_for_deployment()\n",
    "\n",
    "# After the image deployment completes, requests can be posted via HTTP to the new ACI\n",
    "# webservice's scoring URI. The following example posts a sample input from the wine dataset\n",
    "# used in the MLflow ElasticNet example:\n",
    "# https://github.com/mlflow/mlflow/tree/master/examples/sklearn_elasticnet_wine\n",
    "print(\"Scoring URI is: %s\", webservice.scoring_uri)\n",
    "\n",
    "import requests\n",
    "import json\n",
    "\n",
    "# `sample_input` is a JSON-serialized pandas DataFrame with the `split` orientation\n",
    "sample_input = {\n",
    "    \"columns\": [\n",
    "        \"alcohol\",\n",
    "        \"chlorides\",\n",
    "        \"citric acid\",\n",
    "        \"density\",\n",
    "        \"fixed acidity\",\n",
    "        \"free sulfur dioxide\",\n",
    "        \"pH\",\n",
    "        \"residual sugar\",\n",
    "        \"sulphates\",\n",
    "        \"total sulfur dioxide\",\n",
    "        \"volatile acidity\"\n",
    "    ],\n",
    "    \"data\": [\n",
    "        [8.8, 0.045, 0.36, 1.001, 7, 45, 3, 20.7, 0.45, 170, 0.27]\n",
    "    ]\n",
    "}\n",
    "response = requests.post(\n",
    "              url=webservice.scoring_uri, data=json.dumps(sample_input),\n",
    "              headers={\"Content-type\": \"application/json\"})\n",
    "response_json = json.loads(response.text)\n",
    "print(response_json)"
   ]
  }
 ],
 "metadata": {
  "kernelspec": {
   "display_name": "Python 3",
   "language": "python",
   "name": "python3"
  },
  "language_info": {
   "codemirror_mode": {
    "name": "ipython",
    "version": 3
   },
   "file_extension": ".py",
   "mimetype": "text/x-python",
   "name": "python",
   "nbconvert_exporter": "python",
   "pygments_lexer": "ipython3",
   "version": "3.7.0"
  }
 },
 "nbformat": 4,
 "nbformat_minor": 2
}
