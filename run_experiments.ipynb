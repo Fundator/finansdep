{
 "cells": [
  {
   "cell_type": "code",
   "execution_count": 1,
   "metadata": {},
   "outputs": [],
   "source": [
    "import os\n",
    "import pandas as pd\n",
    "import itertools as it"
   ]
  },
  {
   "cell_type": "code",
   "execution_count": 2,
   "metadata": {},
   "outputs": [],
   "source": [
    "params_nb = {\"model\":[\"nb\"],\n",
    "             \"alpha\":[0.5,2],\n",
    "             \"ngrams\": [1,2],\n",
    "              \"idf\": [True, False],\n",
    "             \"fit_prior\":[True, False]}\n",
    "params_log = {\"model\":[\"log_reg\"],\n",
    "             \"C\":[1,4],\n",
    "              \"ngrams\": [1,2],\n",
    "              \"idf\": [True, False]}"
   ]
  },
  {
   "cell_type": "code",
   "execution_count": 3,
   "metadata": {},
   "outputs": [],
   "source": [
    "def dict_to_param_list(param_dict):\n",
    "    args = []\n",
    "    for k,v in param_dict.items():\n",
    "        args.append(k.replace(\"'\",\"\")+\"=\"+str(v))\n",
    "    return \" -P \".join(args)"
   ]
  },
  {
   "cell_type": "code",
   "execution_count": null,
   "metadata": {
    "scrolled": true
   },
   "outputs": [
    {
     "name": "stdout",
     "output_type": "stream",
     "text": [
      "model=nb -P alpha=0.5 -P ngrams=1 -P idf=True -P fit_prior=True\n",
      "model=nb -P alpha=0.5 -P ngrams=1 -P idf=True -P fit_prior=False\n",
      "model=nb -P alpha=0.5 -P ngrams=1 -P idf=False -P fit_prior=True\n",
      "model=nb -P alpha=0.5 -P ngrams=1 -P idf=False -P fit_prior=False\n",
      "model=nb -P alpha=0.5 -P ngrams=2 -P idf=True -P fit_prior=True\n",
      "model=nb -P alpha=0.5 -P ngrams=2 -P idf=True -P fit_prior=False\n",
      "model=nb -P alpha=0.5 -P ngrams=2 -P idf=False -P fit_prior=True\n",
      "model=nb -P alpha=0.5 -P ngrams=2 -P idf=False -P fit_prior=False\n"
     ]
    }
   ],
   "source": [
    "for param_combs in [params_nb, params_log]:\n",
    "    for values in it.product(*map(param_combs.get, list(param_combs.keys()))):\n",
    "        param_dict = dict(zip(list(param_combs.keys()), values))\n",
    "        param_str = dict_to_param_list(param_dict)\n",
    "        print(param_str)\n",
    "        os.system(f\"mlflow run . --no-conda -P {param_str}\")"
   ]
  },
  {
   "cell_type": "code",
   "execution_count": null,
   "metadata": {},
   "outputs": [],
   "source": []
  }
 ],
 "metadata": {
  "kernelspec": {
   "display_name": "Python 3",
   "language": "python",
   "name": "python3"
  },
  "language_info": {
   "codemirror_mode": {
    "name": "ipython",
    "version": 3
   },
   "file_extension": ".py",
   "mimetype": "text/x-python",
   "name": "python",
   "nbconvert_exporter": "python",
   "pygments_lexer": "ipython3",
   "version": "3.7.0"
  }
 },
 "nbformat": 4,
 "nbformat_minor": 2
}
